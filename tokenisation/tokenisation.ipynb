{
 "cells": [
  {
   "cell_type": "markdown",
   "id": "4ac1897b",
   "metadata": {},
   "source": [
    "### 1. Word Tokenisation\n",
    "\n",
    "Splits text into words."
   ]
  },
  {
   "cell_type": "code",
   "execution_count": 2,
   "id": "124f3e78",
   "metadata": {},
   "outputs": [
    {
     "data": {
      "text/plain": [
       "['Hello', ',', 'world', '!', 'This', 'is', 'NLP', 'in', 'practice', '.']"
      ]
     },
     "execution_count": 2,
     "metadata": {},
     "output_type": "execute_result"
    }
   ],
   "source": [
    "from nltk import word_tokenize\n",
    "word_tokenize(\"Hello, world! This is NLP in practice.\")"
   ]
  },
  {
   "cell_type": "markdown",
   "id": "d6f2d712",
   "metadata": {},
   "source": [
    "### 2. Sentence Tokenisation\n",
    "Split text into sentences"
   ]
  },
  {
   "cell_type": "code",
   "execution_count": 4,
   "id": "14ca9a22",
   "metadata": {},
   "outputs": [
    {
     "data": {
      "text/plain": [
       "['Hello, world!', 'This is NLP in practice.', \"Let's explore tokenisation.\"]"
      ]
     },
     "execution_count": 4,
     "metadata": {},
     "output_type": "execute_result"
    }
   ],
   "source": [
    "from nltk import sent_tokenize\n",
    "sent_tokenize(\"Hello, world! This is NLP in practice. Let's explore tokenisation.\")"
   ]
  },
  {
   "cell_type": "markdown",
   "id": "a7341990",
   "metadata": {},
   "source": [
    "### 3. Subword tokenisation\n",
    "Break words into smaller subwords"
   ]
  },
  {
   "cell_type": "code",
   "execution_count": 9,
   "id": "94a145c3",
   "metadata": {},
   "outputs": [
    {
     "data": {
      "text/plain": [
       "['una',\n",
       " '##ffa',\n",
       " '##ble',\n",
       " 'running',\n",
       " 'cats',\n",
       " 'un',\n",
       " '##ha',\n",
       " '##pp',\n",
       " '##iness',\n",
       " 'kindness']"
      ]
     },
     "execution_count": 9,
     "metadata": {},
     "output_type": "execute_result"
    }
   ],
   "source": [
    "from transformers import BertTokenizer\n",
    "tokenizer = BertTokenizer.from_pretrained('bert-base-uncased')\n",
    "tokenizer.tokenize(\"unaffable running cats unhappiness kindness\")"
   ]
  },
  {
   "cell_type": "markdown",
   "id": "3de5fbdb",
   "metadata": {},
   "source": [
    "### 4. Using spacy library\n",
    "####  spaCy\n",
    "\n",
    "Style: Fast, production-ready NLP library.\n",
    "\n",
    "Features: Word & sentence tokenisation, POS tagging, dependency parsing.\n"
   ]
  },
  {
   "cell_type": "code",
   "execution_count": 13,
   "id": "9402958c",
   "metadata": {},
   "outputs": [
    {
     "name": "stdout",
     "output_type": "stream",
     "text": [
      "Hello\n",
      ",\n",
      "world\n",
      "!\n",
      "This\n",
      "is\n",
      "NLP\n",
      "in\n",
      "practice\n",
      ".\n",
      "Let\n",
      "'s\n",
      "explore\n",
      "tokenisation\n"
     ]
    }
   ],
   "source": [
    "import spacy\n",
    "nlp = spacy.load(\"en_core_web_sm\")\n",
    "doc = nlp(\"Hello, world! This is NLP in practice. Let's explore tokenisation\")\n",
    "for token in doc:\n",
    "    print(token.text)"
   ]
  },
  {
   "cell_type": "markdown",
   "id": "ac69c8c2",
   "metadata": {},
   "source": [
    "### 5. Gensim (for preprocessing)\n",
    "\n",
    "Style: Lightweight text preprocessing toolkit.\n",
    "\n",
    "Features: Simple tokenisers, stopword removal, frequency filtering."
   ]
  },
  {
   "cell_type": "code",
   "execution_count": 15,
   "id": "7756e36f",
   "metadata": {},
   "outputs": [
    {
     "data": {
      "text/plain": [
       "['hello',\n",
       " 'world',\n",
       " 'this',\n",
       " 'is',\n",
       " 'nlp',\n",
       " 'in',\n",
       " 'practice',\n",
       " 'let',\n",
       " 'explore',\n",
       " 'tokenisation']"
      ]
     },
     "execution_count": 15,
     "metadata": {},
     "output_type": "execute_result"
    }
   ],
   "source": [
    "from gensim.utils import simple_preprocess\n",
    "simple_preprocess(\"Hello, world! This is NLP in practice. Let's explore tokenisation\")"
   ]
  },
  {
   "cell_type": "markdown",
   "id": "29680a3e",
   "metadata": {},
   "source": [
    "### 6. Character Tokenisation\n",
    "Break text into individual charactersm"
   ]
  },
  {
   "cell_type": "code",
   "execution_count": 17,
   "id": "f55d38bc",
   "metadata": {},
   "outputs": [
    {
     "data": {
      "text/plain": [
       "{'a', 'b', 'h', 'k', 'n', 'p', 'r', 's', 'u'}"
      ]
     },
     "execution_count": 17,
     "metadata": {},
     "output_type": "execute_result"
    }
   ],
   "source": [
    "set('bhanuprakash')"
   ]
  }
 ],
 "metadata": {
  "kernelspec": {
   "display_name": "base",
   "language": "python",
   "name": "python3"
  },
  "language_info": {
   "codemirror_mode": {
    "name": "ipython",
    "version": 3
   },
   "file_extension": ".py",
   "mimetype": "text/x-python",
   "name": "python",
   "nbconvert_exporter": "python",
   "pygments_lexer": "ipython3",
   "version": "3.11.7"
  }
 },
 "nbformat": 4,
 "nbformat_minor": 5
}
